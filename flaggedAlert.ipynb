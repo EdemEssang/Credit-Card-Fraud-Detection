{
 "cells": [
  {
   "cell_type": "code",
   "execution_count": 1,
   "id": "60818781",
   "metadata": {},
   "outputs": [
    {
     "name": "stderr",
     "output_type": "stream",
     "text": [
      "C:\\Users\\daved\\AppData\\Local\\Temp\\ipykernel_17928\\3523327928.py:14: UserWarning: pandas only supports SQLAlchemy connectable (engine/connection) or database string URI or sqlite3 DBAPI2 connection. Other DBAPI2 objects are not tested. Please consider using SQLAlchemy.\n",
      "  df = pd.read_sql(query, connection)\n"
     ]
    },
    {
     "name": "stdout",
     "output_type": "stream",
     "text": [
      "Data loaded successfully into fraud_alerts table.\n"
     ]
    }
   ],
   "source": [
    "import pandas as pd\n",
    "import psycopg2\n",
    "\n",
    "def extract_credit():\n",
    "    \"\"\"Extract data from creditcard table in Postgres\"\"\"\n",
    "    try:\n",
    "        connection = psycopg2.connect(\n",
    "            host=\"localhost\",\n",
    "            dbname=\"Fraud_Alert\",\n",
    "            user=\"postgres\",\n",
    "            password=\"BBK#0027\"\n",
    "        )\n",
    "        query = \"SELECT transaction_id, amount_anomaly, time FROM creditcard;\"\n",
    "        df = pd.read_sql(query, connection)\n",
    "        connection.close()\n",
    "        return df\n",
    "    except Exception as e:\n",
    "        print(\"Error during creditcard extract:\", e)\n",
    "        return pd.DataFrame()\n",
    "\n",
    "def transform_to_alerts(credit_df):\n",
    "    \"\"\"Filter anomalies and build fraud_alerts table\"\"\"\n",
    "    # Keep only anomalies\n",
    "    fraud_df = credit_df[credit_df[\"amount_anomaly\"] == 1].copy()\n",
    "\n",
    "    # Build fraud_alerts table\n",
    "    fraud_alerts = pd.DataFrame({\n",
    "        \"id\": fraud_df.index + 1,   # can also use fraud_df[\"transaction_id\"]\n",
    "        \"suspicious\": \"High transaction amount\",\n",
    "        \"transaction_id\": fraud_df[\"transaction_id\"],\n",
    "        \"alert_time\": pd.to_datetime(fraud_df[\"time\"], errors=\"coerce\")\n",
    "    })\n",
    "    return fraud_alerts\n",
    "\n",
    "def load_alerts(fraud_alerts):\n",
    "    \"\"\"Load alerts into fraud_alerts table in Postgres\"\"\"\n",
    "    try:\n",
    "        connection = psycopg2.connect(\n",
    "            host=\"localhost\",\n",
    "            dbname=\"Fraud_Alert\",\n",
    "            user=\"postgres\",\n",
    "            password=\"BBK#0027\"\n",
    "        )\n",
    "        con = connection.cursor()\n",
    "\n",
    "        for _, row in fraud_alerts.iterrows():\n",
    "            con.execute(\"\"\"\n",
    "                INSERT INTO fraud_alerts(id, suspicious, transaction_id, alert_time)\n",
    "                VALUES (%s, %s, %s, %s)\n",
    "            \"\"\", (int(row[\"id\"]), row[\"suspicious\"], int(row[\"transaction_id\"]), row[\"alert_time\"]))\n",
    "        \n",
    "        connection.commit()\n",
    "        con.close()\n",
    "        connection.close()\n",
    "        print(\"Data loaded successfully into fraud_alerts table.\")\n",
    "\n",
    "    except Exception as e:\n",
    "        print(\"Error during fraud_alerts load:\", e)\n",
    "\n",
    "if __name__ == \"__main__\":\n",
    "    # Extract\n",
    "    credit_df = extract_credit()\n",
    "\n",
    "    # Transform\n",
    "    fraud_alerts = transform_to_alerts(credit_df)\n",
    "\n",
    "    # Load\n",
    "    load_alerts(fraud_alerts)"
   ]
  }
 ],
 "metadata": {
  "kernelspec": {
   "display_name": "fraud",
   "language": "python",
   "name": "python3"
  },
  "language_info": {
   "codemirror_mode": {
    "name": "ipython",
    "version": 3
   },
   "file_extension": ".py",
   "mimetype": "text/x-python",
   "name": "python",
   "nbconvert_exporter": "python",
   "pygments_lexer": "ipython3",
   "version": "3.13.2"
  }
 },
 "nbformat": 4,
 "nbformat_minor": 5
}
