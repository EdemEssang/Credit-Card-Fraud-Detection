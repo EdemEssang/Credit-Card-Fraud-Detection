{
 "cells": [
  {
   "cell_type": "code",
   "execution_count": 1,
   "id": "98daa67e",
   "metadata": {},
   "outputs": [],
   "source": [
    "# Creating a merchant table \n",
    "import pandas as pd\n",
    "import math\n",
    "import random"
   ]
  },
  {
   "cell_type": "code",
   "execution_count": 2,
   "id": "6d5f2c7d",
   "metadata": {},
   "outputs": [],
   "source": [
    "# Creating our merchants details\n",
    "merchant_num = 283726\n",
    "merchant_name = ['UnityTrust Bank Lagos, Nigeria', 'Savannah Capital Bank Nairobi, Kenya',\n",
    "                 'GoldCoast Heritage Bank Accra, Ghana', 'Ubuntu Commercial Bank Johannesburg, South Africa',\n",
    "                 'Nile Delta Bank Cairo, Egypt', 'BlueRiver Financial Group London, United Kingdom',\n",
    "                 'Alpine Trust Bank Zurich, Switzerland', 'Danube Union Bank Vienna, Austria',\n",
    "                 'Nordic Growth Bank Stockholm, Sweden', 'Mediterraneo Bank Rome, Italy']\n",
    "merchant_location = ['Lagos, Nigeria', 'Nairobi, Kenya', 'Accra, Ghana',\n",
    "                     'Johannesburg, South Africa', 'Cairo, Egypt', 'London, United Kingdom',\n",
    "                     'Zurich, Switzerland', 'Vienna, Austria', 'Stockholm, Sweden', 'Rome, Italy']"
   ]
  },
  {
   "cell_type": "code",
   "execution_count": 3,
   "id": "ad8a4dfe",
   "metadata": {},
   "outputs": [
    {
     "name": "stdout",
     "output_type": "stream",
     "text": [
      "✅ merchants.csv created with 283726 rows\n",
      "    id                                      merchant_name  \\\n",
      "0    1                       Nile Delta Bank Cairo, Egypt   \n",
      "1    2   BlueRiver Financial Group London, United Kingdom   \n",
      "2    3  Ubuntu Commercial Bank Johannesburg, South Africa   \n",
      "3    4  Ubuntu Commercial Bank Johannesburg, South Africa   \n",
      "4    5               GoldCoast Heritage Bank Accra, Ghana   \n",
      "5    6   BlueRiver Financial Group London, United Kingdom   \n",
      "6    7                  Danube Union Bank Vienna, Austria   \n",
      "7    8                       Nile Delta Bank Cairo, Egypt   \n",
      "8    9               GoldCoast Heritage Bank Accra, Ghana   \n",
      "9   10                     UnityTrust Bank Lagos, Nigeria   \n",
      "10  11                      Mediterraneo Bank Rome, Italy   \n",
      "11  12                  Danube Union Bank Vienna, Austria   \n",
      "12  13  Ubuntu Commercial Bank Johannesburg, South Africa   \n",
      "13  14               GoldCoast Heritage Bank Accra, Ghana   \n",
      "14  15  Ubuntu Commercial Bank Johannesburg, South Africa   \n",
      "\n",
      "             merchant_location  \n",
      "0                 Cairo, Egypt  \n",
      "1       London, United Kingdom  \n",
      "2   Johannesburg, South Africa  \n",
      "3   Johannesburg, South Africa  \n",
      "4                 Accra, Ghana  \n",
      "5       London, United Kingdom  \n",
      "6              Vienna, Austria  \n",
      "7                 Cairo, Egypt  \n",
      "8                 Accra, Ghana  \n",
      "9               Lagos, Nigeria  \n",
      "10                 Rome, Italy  \n",
      "11             Vienna, Austria  \n",
      "12  Johannesburg, South Africa  \n",
      "13                Accra, Ghana  \n",
      "14  Johannesburg, South Africa  \n"
     ]
    }
   ],
   "source": [
    "# Calculate distribution\n",
    "per_merchant = merchant_num // len(merchant_name) # base count\n",
    "remainder = merchant_num % len(merchant_name) # leftover\n",
    "\n",
    "# Build aligned dataset\n",
    "data = []\n",
    "for i, (m_name, m_loc) in enumerate(zip(merchant_name, merchant_location)):\n",
    "    count = per_merchant + (1 if i < remainder else 0)  \n",
    "    data.extend([(m_name, m_loc)] * count)\n",
    "\n",
    "# Shuffle for realism\n",
    "random.shuffle(data)\n",
    "\n",
    "# Assign sequential IDs after shuffle\n",
    "df = pd.DataFrame(data, columns=[\"merchant_name\", \"merchant_location\"])\n",
    "df.insert(0, \"id\", range(1, len(df) + 1))\n",
    "\n",
    "# Save to CSV\n",
    "df.to_csv(\"merchants.csv\", index=False)\n",
    "\n",
    "print(\"✅ merchants.csv created with\", len(df), \"rows\")\n",
    "print(df.head(15))"
   ]
  },
  {
   "cell_type": "code",
   "execution_count": 4,
   "id": "21b25cc5",
   "metadata": {},
   "outputs": [],
   "source": [
    "import psycopg2"
   ]
  },
  {
   "cell_type": "code",
   "execution_count": 5,
   "id": "f15de68d",
   "metadata": {},
   "outputs": [
    {
     "data": {
      "text/plain": [
       "id                    int64\n",
       "merchant_name        object\n",
       "merchant_location    object\n",
       "dtype: object"
      ]
     },
     "execution_count": 5,
     "metadata": {},
     "output_type": "execute_result"
    }
   ],
   "source": [
    "df.dtypes"
   ]
  },
  {
   "cell_type": "markdown",
   "id": "cf7bdf8d",
   "metadata": {},
   "source": [
    "### Loading my cleaned dataset to postgresSQL"
   ]
  },
  {
   "cell_type": "code",
   "execution_count": 7,
   "id": "a1e40ed7",
   "metadata": {},
   "outputs": [
    {
     "name": "stdout",
     "output_type": "stream",
     "text": [
      "Data loaded successfully into merchants table.\n"
     ]
    }
   ],
   "source": [
    "def extract():\n",
    "    df = pd.read_csv(\"merchants.csv\")\n",
    "    return df\n",
    "\n",
    "def load(df):\n",
    "    try:\n",
    "        connection = psycopg2.connect(\n",
    "                host = \"localhost\",\n",
    "                dbname = \"Fraud_Alert\",\n",
    "                user = \"postgres\",\n",
    "                password = \"BBK#0027\"\n",
    "        )\n",
    "\n",
    "        con = connection.cursor()\n",
    "\n",
    "        for _, row in df.iterrows():\n",
    "            con.execute(\"\"\"\n",
    "                        INSERT INTO merchants(id, merchant_name, merchant_location)\n",
    "                        VALUES (%s,%s,%s) \"\"\", tuple (row)\n",
    "                        )\n",
    "            \n",
    "        connection.commit()\n",
    "        con.close()\n",
    "        connection.close()\n",
    "        print(\"Data loaded successfully into merchants table.\")\n",
    "\n",
    "    except Exception as e:\n",
    "        print(\"Error\", e)\n",
    "\n",
    "if __name__ == \"__main__\":\n",
    "    raw_data = extract()\n",
    "    load(raw_data)"
   ]
  }
 ],
 "metadata": {
  "kernelspec": {
   "display_name": "fraud",
   "language": "python",
   "name": "python3"
  },
  "language_info": {
   "codemirror_mode": {
    "name": "ipython",
    "version": 3
   },
   "file_extension": ".py",
   "mimetype": "text/x-python",
   "name": "python",
   "nbconvert_exporter": "python",
   "pygments_lexer": "ipython3",
   "version": "3.13.2"
  }
 },
 "nbformat": 4,
 "nbformat_minor": 5
}
